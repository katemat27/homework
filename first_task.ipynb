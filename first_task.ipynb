{
 "cells": [
  {
   "cell_type": "code",
   "execution_count": 11,
   "id": "93ba0b3e",
   "metadata": {},
   "outputs": [],
   "source": [
    "import pandas as pd"
   ]
  },
  {
   "cell_type": "markdown",
   "id": "319528d0",
   "metadata": {},
   "source": [
    "Напишите функцию, которая возвращает true, если число является четным.\n",
    "Подсказка: используйте % для определения остатка от деления: 10 % 3 = 1"
   ]
  },
  {
   "cell_type": "code",
   "execution_count": 12,
   "id": "19d7af7f",
   "metadata": {},
   "outputs": [],
   "source": [
    "def is_odd(n: int) -> bool:\n",
    "    if n % 2 == 0:\n",
    "        return True\n",
    "    else:\n",
    "        return "
   ]
  },
  {
   "cell_type": "code",
   "execution_count": 13,
   "id": "8076546b",
   "metadata": {},
   "outputs": [
    {
     "name": "stdout",
     "output_type": "stream",
     "text": [
      "[True, True]\n"
     ]
    }
   ],
   "source": [
    "numbers = [1, 2, 3, 4, 5]\n",
    "result = [is_odd(n) for n in numbers if is_odd(n)]\n",
    "print(result)"
   ]
  },
  {
   "cell_type": "code",
   "execution_count": null,
   "id": "b659716c",
   "metadata": {},
   "outputs": [],
   "source": []
  }
 ],
 "metadata": {
  "kernelspec": {
   "display_name": "Python (myenv)",
   "language": "python",
   "name": "myenv"
  },
  "language_info": {
   "codemirror_mode": {
    "name": "ipython",
    "version": 3
   },
   "file_extension": ".py",
   "mimetype": "text/x-python",
   "name": "python",
   "nbconvert_exporter": "python",
   "pygments_lexer": "ipython3",
   "version": "3.12.7"
  }
 },
 "nbformat": 4,
 "nbformat_minor": 5
}
