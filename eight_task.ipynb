{
 "cells": [
  {
   "cell_type": "markdown",
   "id": "4cd27c39",
   "metadata": {},
   "source": [
    "\"\"\"\n",
    "    Напишите функцию, которая вернет true, если список является полностью возрастающим,\n",
    "    т.е. каждый следующий элемент больше предыдущего\n",
    "\"\"\"\n",
    "\n",
    "\n",
    "def is_list_growing(lst: list[float]) -> bool:\n",
    "    return False"
   ]
  },
  {
   "cell_type": "code",
   "execution_count": 1,
   "id": "4d908b41",
   "metadata": {},
   "outputs": [],
   "source": [
    "import pandas as pd"
   ]
  },
  {
   "cell_type": "code",
   "execution_count": 2,
   "id": "25e408e9",
   "metadata": {},
   "outputs": [],
   "source": [
    "def is_list_growing(lst: list[float]) -> bool:\n",
    "    return all(lst[i] < lst[i+1] for i in range(len(lst) - 1))"
   ]
  },
  {
   "cell_type": "code",
   "execution_count": 3,
   "id": "7eaef2ee",
   "metadata": {},
   "outputs": [
    {
     "name": "stdout",
     "output_type": "stream",
     "text": [
      "True\n",
      "False\n",
      "False\n",
      "True\n"
     ]
    }
   ],
   "source": [
    "print(is_list_growing([1, 2, 3, 4]))  \n",
    "print(is_list_growing([1, 2, 2, 3]))  \n",
    "print(is_list_growing([5, 4, 3]))      \n",
    "print(is_list_growing([10])) "
   ]
  },
  {
   "cell_type": "code",
   "execution_count": null,
   "id": "38518c1c",
   "metadata": {},
   "outputs": [],
   "source": []
  }
 ],
 "metadata": {
  "kernelspec": {
   "display_name": "Python (myenv)",
   "language": "python",
   "name": "myenv"
  },
  "language_info": {
   "codemirror_mode": {
    "name": "ipython",
    "version": 3
   },
   "file_extension": ".py",
   "mimetype": "text/x-python",
   "name": "python",
   "nbconvert_exporter": "python",
   "pygments_lexer": "ipython3",
   "version": "3.12.7"
  }
 },
 "nbformat": 4,
 "nbformat_minor": 5
}
