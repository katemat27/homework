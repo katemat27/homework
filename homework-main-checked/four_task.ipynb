{
 "cells": [
  {
   "cell_type": "markdown",
   "id": "2515db15",
   "metadata": {},
   "source": [
    "Напишите функцию, которая принимает три положительных числа и \n",
    "    возвращает вид треугольника (равносторонний, равнобедренный, обычный).\n",
    "\n",
    "\n",
    "def get_triangle_kind(a: int, b: int, c: int) -> str:\n",
    "    return \"обычный\""
   ]
  },
  {
   "cell_type": "code",
   "execution_count": null,
   "id": "b555ebee",
   "metadata": {},
   "outputs": [],
   "source": [
    "import pandas as pd"
   ]
  },
  {
   "cell_type": "code",
   "execution_count": 1,
   "id": "f42edf29",
   "metadata": {},
   "outputs": [],
   "source": [
    "def get_triangle_kind(a: int, b: int, c: int) -> str:\n",
    "   if a == b == c:\n",
    "    return 'равносторонний'\n",
    "   elif a == b or b==c or a==c:\n",
    "    return 'равнобедренный'\n",
    "   else:   \n",
    "    return \"обычный\""
   ]
  },
  {
   "cell_type": "code",
   "execution_count": 3,
   "id": "b8d6f4da",
   "metadata": {},
   "outputs": [
    {
     "name": "stdout",
     "output_type": "stream",
     "text": [
      "равнобедренный\n",
      "равносторонний\n",
      "обычный\n"
     ]
    }
   ],
   "source": [
    "print(get_triangle_kind(2, 4, 2))   # True\n",
    "print(get_triangle_kind(5, 5, 5)) # True\n",
    "print(get_triangle_kind(3, 6, 10))"
   ]
  },
  {
   "cell_type": "code",
   "execution_count": null,
   "id": "626c5528",
   "metadata": {},
   "outputs": [],
   "source": []
  }
 ],
 "metadata": {
  "kernelspec": {
   "display_name": "Python 3",
   "language": "python",
   "name": "python3"
  },
  "language_info": {
   "codemirror_mode": {
    "name": "ipython",
    "version": 3
   },
   "file_extension": ".py",
   "mimetype": "text/x-python",
   "name": "python",
   "nbconvert_exporter": "python",
   "pygments_lexer": "ipython3",
   "version": "3.12.10"
  }
 },
 "nbformat": 4,
 "nbformat_minor": 5
}
