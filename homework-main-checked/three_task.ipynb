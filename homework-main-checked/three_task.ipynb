{
 "cells": [
  {
   "cell_type": "markdown",
   "id": "f93d1be3",
   "metadata": {},
   "source": [
    "Напишите функцию, которая возвращает true, если\n",
    "три заданных числа (в указанном порядке) являются последовательными членами\n",
    "арифметической прогрессии"
   ]
  },
  {
   "cell_type": "code",
   "execution_count": null,
   "id": "08e2e167",
   "metadata": {},
   "outputs": [],
   "source": [
    "import pandas as pd"
   ]
  },
  {
   "cell_type": "code",
   "execution_count": 4,
   "id": "6984220d",
   "metadata": {},
   "outputs": [],
   "source": [
    "def is_arifm_progression(a: int, b: int, c: int) -> bool:\n",
    "    if (b - a) == (c - b):\n",
    "        return True\n",
    "    else:\n",
    "        return False"
   ]
  },
  {
   "cell_type": "code",
   "execution_count": null,
   "id": "92c2723c",
   "metadata": {},
   "outputs": [
    {
     "name": "stdout",
     "output_type": "stream",
     "text": [
      "True\n",
      "True\n",
      "False\n"
     ]
    }
   ],
   "source": [
    "print(is_arifm_progression(2, 4, 6))  \n",
    "print(is_arifm_progression(5, 10, 15)) \n",
    "print(is_arifm_progression(3, 6, 10)) "
   ]
  },
  {
   "cell_type": "code",
   "execution_count": null,
   "id": "acb8423e",
   "metadata": {},
   "outputs": [],
   "source": []
  }
 ],
 "metadata": {
  "kernelspec": {
   "display_name": "Python 3",
   "language": "python",
   "name": "python3"
  },
  "language_info": {
   "codemirror_mode": {
    "name": "ipython",
    "version": 3
   },
   "file_extension": ".py",
   "mimetype": "text/x-python",
   "name": "python",
   "nbconvert_exporter": "python",
   "pygments_lexer": "ipython3",
   "version": "3.12.10"
  }
 },
 "nbformat": 4,
 "nbformat_minor": 5
}
