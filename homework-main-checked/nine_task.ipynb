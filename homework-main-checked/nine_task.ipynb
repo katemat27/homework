{
 "cells": [
  {
   "cell_type": "markdown",
   "id": "fb4e8601",
   "metadata": {},
   "source": [
    "\"\"\"\n",
    "    Дан список целых чисел и определенное заданное число. Найти все пары из списка,\n",
    "    сумма которых равна этому числу.\n",
    "    Верните из функции список кортежей.\n",
    "    Например: get_pairs_number([1, 2, 4, 3, 5, 2], 7) -> [(4,3), (5,2)]\n",
    "\"\"\"\n",
    "\n",
    "\n",
    "def get_pairs_number(lst: list[int], n) -> list[tuple]:\n",
    "    return []"
   ]
  },
  {
   "cell_type": "code",
   "execution_count": null,
   "id": "ad2c3f11",
   "metadata": {},
   "outputs": [],
   "source": [
    "import pandas as pd"
   ]
  },
  {
   "cell_type": "code",
   "execution_count": 1,
   "id": "50b1d760",
   "metadata": {},
   "outputs": [],
   "source": [
    "def get_pairs_number(lst: list[int], n) -> list[tuple]:\n",
    "    pairs = []\n",
    "    for i in range(len(lst)):\n",
    "        for j in range(i+1, len(lst)):\n",
    "            if lst[i] + lst[j] == n:\n",
    "                pairs.append((lst[i], lst[j]))\n",
    "    return pairs"
   ]
  },
  {
   "cell_type": "code",
   "execution_count": 2,
   "id": "b0aed874",
   "metadata": {},
   "outputs": [
    {
     "name": "stdout",
     "output_type": "stream",
     "text": [
      "[(2, 5), (4, 3), (5, 2)]\n"
     ]
    }
   ],
   "source": [
    "print(get_pairs_number([1, 2, 4, 3, 5, 2], 7))"
   ]
  },
  {
   "cell_type": "code",
   "execution_count": null,
   "id": "7821ed6d",
   "metadata": {},
   "outputs": [],
   "source": []
  }
 ],
 "metadata": {
  "kernelspec": {
   "display_name": "Python (myenv)",
   "language": "python",
   "name": "myenv"
  },
  "language_info": {
   "codemirror_mode": {
    "name": "ipython",
    "version": 3
   },
   "file_extension": ".py",
   "mimetype": "text/x-python",
   "name": "python",
   "nbconvert_exporter": "python",
   "pygments_lexer": "ipython3",
   "version": "3.12.7"
  }
 },
 "nbformat": 4,
 "nbformat_minor": 5
}
