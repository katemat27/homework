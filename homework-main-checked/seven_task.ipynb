{
 "cells": [
  {
   "cell_type": "markdown",
   "id": "49474d2e",
   "metadata": {},
   "source": [
    "\"\"\"\n",
    "    Дана ФИО, напишите функцию, которая выводит фамилию и инициалы через точку.\n",
    "    Например: \"Лермонтов Михаил Юрьевич\" -> \"Лермонтов М. Ю.\"\n",
    "\"\"\"\n",
    "\n",
    "\n",
    "def get_person_short_name(fio: str) -> str:\n",
    "    return \"\""
   ]
  },
  {
   "cell_type": "code",
   "execution_count": null,
   "id": "81af1023",
   "metadata": {},
   "outputs": [],
   "source": [
    "import pandas as pd"
   ]
  },
  {
   "cell_type": "code",
   "execution_count": 1,
   "id": "da841629",
   "metadata": {},
   "outputs": [],
   "source": [
    "def get_person_short_name(fio: str) -> str:\n",
    "    parts = fio.split()\n",
    "    last_name = parts[0]\n",
    "    initials = f'{parts[1][0]}. {parts[2][0]}.'\n",
    "    return f'{last_name} {initials}'"
   ]
  },
  {
   "cell_type": "code",
   "execution_count": 2,
   "id": "5296a3f3",
   "metadata": {},
   "outputs": [
    {
     "name": "stdout",
     "output_type": "stream",
     "text": [
      "Лермонтов М. Ю.\n"
     ]
    }
   ],
   "source": [
    "print(get_person_short_name(\"Лермонтов Михаил Юрьевич\"))"
   ]
  }
 ],
 "metadata": {
  "kernelspec": {
   "display_name": "Python (myenv)",
   "language": "python",
   "name": "myenv"
  },
  "language_info": {
   "codemirror_mode": {
    "name": "ipython",
    "version": 3
   },
   "file_extension": ".py",
   "mimetype": "text/x-python",
   "name": "python",
   "nbconvert_exporter": "python",
   "pygments_lexer": "ipython3",
   "version": "3.12.7"
  }
 },
 "nbformat": 4,
 "nbformat_minor": 5
}
