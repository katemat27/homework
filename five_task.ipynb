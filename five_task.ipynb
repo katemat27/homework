{
 "cells": [
  {
   "cell_type": "code",
   "execution_count": 7,
   "id": "518cb626",
   "metadata": {},
   "outputs": [],
   "source": [
    "import pandas as pd"
   ]
  },
  {
   "cell_type": "markdown",
   "id": "6431f057",
   "metadata": {},
   "source": [
    "\"\"\"\n",
    "    Проверить, является ли строка с пробелами палиндромом (а роза упала на лапу азора).\n",
    "    Упростим задачу, допуская, что cлова в предложении разделяются только одним пробелом.\n",
    "\"\"\"\n",
    "\n",
    "\n",
    "def is_palindrom(s: str) -> bool:\n",
    "    return False"
   ]
  },
  {
   "cell_type": "code",
   "execution_count": 8,
   "id": "0272b57e",
   "metadata": {},
   "outputs": [],
   "source": [
    "def is_palindrom(s: str) -> bool:\n",
    "    s_clean = s.replace('','').lower()\n",
    "    if s_clean == s_clean[::-1]:\n",
    "        return True\n",
    "    else:\n",
    "        return False"
   ]
  },
  {
   "cell_type": "code",
   "execution_count": 10,
   "id": "42d24314",
   "metadata": {},
   "outputs": [
    {
     "name": "stdout",
     "output_type": "stream",
     "text": [
      "True\n",
      "False\n"
     ]
    }
   ],
   "source": [
    "print(is_palindrom('шалаш'))\n",
    "print(is_palindrom('а роза упала на лапу азора'))"
   ]
  },
  {
   "cell_type": "markdown",
   "id": "bf40e6a6",
   "metadata": {},
   "source": []
  }
 ],
 "metadata": {
  "kernelspec": {
   "display_name": "Python (myenv)",
   "language": "python",
   "name": "myenv"
  },
  "language_info": {
   "codemirror_mode": {
    "name": "ipython",
    "version": 3
   },
   "file_extension": ".py",
   "mimetype": "text/x-python",
   "name": "python",
   "nbconvert_exporter": "python",
   "pygments_lexer": "ipython3",
   "version": "3.12.7"
  }
 },
 "nbformat": 4,
 "nbformat_minor": 5
}
