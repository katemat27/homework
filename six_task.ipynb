{
 "cells": [
  {
   "cell_type": "markdown",
   "id": "f843d3d5",
   "metadata": {},
   "source": [
    "\"\"\"\n",
    "    Дана строка, разбить ее на слова. Слова разделены одним пробелом\n",
    "    \"Александр Сергеевич Пушкин\" -> [\"Александр\", \"Сергеевич\", \"Пушкин\"]\n",
    "\"\"\"\n",
    "\n",
    "\n",
    "def get_words(s: str) -> list[str]:\n",
    "    return []\n"
   ]
  },
  {
   "cell_type": "code",
   "execution_count": 1,
   "id": "17ccce9b",
   "metadata": {},
   "outputs": [],
   "source": [
    "import pandas as pd"
   ]
  },
  {
   "cell_type": "code",
   "execution_count": 2,
   "id": "a065cfc4",
   "metadata": {},
   "outputs": [],
   "source": [
    "def get_words(s: str) -> list[str]:\n",
    "    return s.split()"
   ]
  },
  {
   "cell_type": "code",
   "execution_count": 4,
   "id": "22e88423",
   "metadata": {},
   "outputs": [
    {
     "name": "stdout",
     "output_type": "stream",
     "text": [
      "['Александр', 'Сергеевич', 'Пушкин']\n"
     ]
    }
   ],
   "source": [
    "print(get_words(\"Александр Сергеевич Пушкин\"))"
   ]
  },
  {
   "cell_type": "code",
   "execution_count": null,
   "id": "591b2f3d",
   "metadata": {},
   "outputs": [],
   "source": []
  }
 ],
 "metadata": {
  "kernelspec": {
   "display_name": "Python (myenv)",
   "language": "python",
   "name": "myenv"
  },
  "language_info": {
   "codemirror_mode": {
    "name": "ipython",
    "version": 3
   },
   "file_extension": ".py",
   "mimetype": "text/x-python",
   "name": "python",
   "nbconvert_exporter": "python",
   "pygments_lexer": "ipython3",
   "version": "3.12.7"
  }
 },
 "nbformat": 4,
 "nbformat_minor": 5
}
